{
 "cells": [
  {
   "cell_type": "markdown",
   "metadata": {},
   "source": [
    "# Reconocimiento de Imagenes en CIFAR10"
   ]
  },
  {
   "cell_type": "markdown",
   "metadata": {},
   "source": [
    "En esta sección trabajaremos con un dataset muy utilizado para experimentar con reconocimiento de imágenes:\n",
    "CIFAR10. Se trata de un conjunto de 60.000 imágenes RGB de 32 × 32 pixeles que contiene 10 clases de\n",
    "objetos (6000 ejemplos por clase). La versión utilizada se atribuye a [5] y viene separada en 50000 ejemplos\n",
    "de entrenamiento y 10000 casos de prueba. El conjunto de pruebas fue obtenido seleccionando 1000 imágenes\n",
    "aleatorias de cada clase. Los datos restantes han sido ordenados aleatoriamente y están organizados en 5\n",
    "bloques de entrenamiento (batches). Las clases son mutuamente excluyentes y corresponden a las siguientes\n",
    "categor´ıas: gato, perro, rana, caballo, pájaro, ciervo, avión, automóvil, camión y barco."
   ]
  },
  {
   "cell_type": "markdown",
   "metadata": {},
   "source": [
    "![title](enunciado.png)"
   ]
  },
  {
   "cell_type": "code",
   "execution_count": null,
   "metadata": {
    "collapsed": true
   },
   "outputs": [],
   "source": []
  }
 ],
 "metadata": {
  "anaconda-cloud": {},
  "kernelspec": {
   "display_name": "Python [conda root]",
   "language": "python",
   "name": "conda-root-py"
  },
  "language_info": {
   "codemirror_mode": {
    "name": "ipython",
    "version": 2
   },
   "file_extension": ".py",
   "mimetype": "text/x-python",
   "name": "python",
   "nbconvert_exporter": "python",
   "pygments_lexer": "ipython2",
   "version": "2.7.12"
  }
 },
 "nbformat": 4,
 "nbformat_minor": 0
}
