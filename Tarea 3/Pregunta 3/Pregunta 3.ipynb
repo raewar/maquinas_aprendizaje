{
 "cells": [
  {
   "cell_type": "markdown",
   "metadata": {},
   "source": [
    "# Reconocimiento de Imagenes en CIFAR10"
   ]
  },
  {
   "cell_type": "markdown",
   "metadata": {},
   "source": [
    "En esta sección trabajaremos con un dataset muy utilizado para experimentar con reconocimiento de imágenes:\n",
    "CIFAR10. Se trata de un conjunto de 60.000 imágenes RGB de 32 × 32 pixeles que contiene 10 clases de\n",
    "objetos (6000 ejemplos por clase). La versión utilizada se atribuye a [5] y viene separada en 50000 ejemplos\n",
    "de entrenamiento y 10000 casos de prueba. El conjunto de pruebas fue obtenido seleccionando 1000 imágenes\n",
    "aleatorias de cada clase. Los datos restantes han sido ordenados aleatoriamente y están organizados en 5\n",
    "bloques de entrenamiento (batches). Las clases son mutuamente excluyentes y corresponden a las siguientes\n",
    "categor´ıas: gato, perro, rana, caballo, pájaro, ciervo, avión, automóvil, camión y barco."
   ]
  },
  {
   "cell_type": "markdown",
   "metadata": {},
   "source": [
    "![title](enunciado.png)"
   ]
  },
  {
   "cell_type": "markdown",
   "metadata": {
    "collapsed": true
   },
   "source": [
    "Los datos asociados a esta actividad podrán ser obtenidos utilizando los siguientes comandos en la l´ınea\n",
    "de comandos (sistemas UNIX) <br>\n",
    "1 wget http://octopus.inf.utfsm.cl/~ricky/data.tar.gz <br>\n",
    "2 tar -xzvf data.tar.gz <br>\n",
    "3 rm data.tar.gz <br>"
   ]
  },
  {
   "cell_type": "code",
   "execution_count": 2,
   "metadata": {
    "collapsed": false
   },
   "outputs": [
    {
     "ename": "SyntaxError",
     "evalue": "invalid syntax (<ipython-input-2-9f1fa1f722cf>, line 1)",
     "output_type": "error",
     "traceback": [
      "\u001b[0;36m  File \u001b[0;32m\"<ipython-input-2-9f1fa1f722cf>\"\u001b[0;36m, line \u001b[0;32m1\u001b[0m\n\u001b[0;31m    wget http://www.octopus.inf.utfsm.cl/~ricky/data.tar.gz\u001b[0m\n\u001b[0m            ^\u001b[0m\n\u001b[0;31mSyntaxError\u001b[0m\u001b[0;31m:\u001b[0m invalid syntax\n"
     ]
    }
   ],
   "source": []
  },
  {
   "cell_type": "code",
   "execution_count": null,
   "metadata": {
    "collapsed": true
   },
   "outputs": [],
   "source": []
  }
 ],
 "metadata": {
  "anaconda-cloud": {},
  "kernelspec": {
   "display_name": "Python [conda root]",
   "language": "python",
   "name": "conda-root-py"
  },
  "language_info": {
   "codemirror_mode": {
    "name": "ipython",
    "version": 2
   },
   "file_extension": ".py",
   "mimetype": "text/x-python",
   "name": "python",
   "nbconvert_exporter": "python",
   "pygments_lexer": "ipython2",
   "version": "2.7.12"
  }
 },
 "nbformat": 4,
 "nbformat_minor": 0
}
