{
 "cells": [
  {
   "cell_type": "markdown",
   "metadata": {},
   "source": [
    "# Pregunta 4"
   ]
  },
  {
   "cell_type": "markdown",
   "metadata": {},
   "source": [
    "### Librerias"
   ]
  },
  {
   "cell_type": "markdown",
   "metadata": {},
   "source": [
    "### a)"
   ]
  },
  {
   "cell_type": "code",
   "execution_count": 1,
   "metadata": {
    "collapsed": false
   },
   "outputs": [],
   "source": [
    "import pandas as pd\n",
    "import numpy as np\n",
    "\n",
    "url = 'http://statweb.stanford.edu/~tibs/ElemStatLearn/datasets/prostate.data'\n",
    "df = pd.read_csv(url, sep='\\t', header=0)\n",
    "df = df.drop('Unnamed: 0', axis=1)\n",
    "istrain_str = df['train']\n",
    "istrain = np.asarray([True if s == 'T' else False for s in istrain_str])\n",
    "istest = np.logical_not(istrain)\n",
    "df = df.drop('train', axis=1)\n"
   ]
  },
  {
   "cell_type": "markdown",
   "metadata": {},
   "source": [
    "* __Linea 5:__ Descarta la columna que enumera los datos, debido a su irrelevancia \n",
    "* __Linea 6:__ Guarda en istrain str la columna __train__\n",
    "* __Linea 7:__ Transforma istrain str en un arrelgo, mapeando los valores 'T' y 'F' a 'True' y 'False' en la variable __istrain__\n",
    "* __Linea 8:__ Aplica un NO logico, invirtiendo los valores de __istrain__\n",
    "* __Linea 9:__ Descarta la columna __train__ del dataset __df__"
   ]
  },
  {
   "cell_type": "markdown",
   "metadata": {},
   "source": [
    "### b)"
   ]
  },
  {
   "cell_type": "code",
   "execution_count": 2,
   "metadata": {
    "collapsed": false,
    "scrolled": false
   },
   "outputs": [
    {
     "name": "stdout",
     "output_type": "stream",
     "text": [
      "(97, 9)\n"
     ]
    }
   ],
   "source": [
    "print df.shape"
   ]
  },
  {
   "cell_type": "markdown",
   "metadata": {},
   "source": [
    "El dataset es una matriz de 97 filas y 9 columnas:\n",
    "* lcavol float64\n",
    "* lweight float64\n",
    "* age int64\n",
    "* lbph float64\n",
    "* svi int64\n",
    "* lcp float64\n",
    "* gleason int64\n",
    "* pgg45 int64\n",
    "* lpsa float64"
   ]
  },
  {
   "cell_type": "markdown",
   "metadata": {},
   "source": [
    "### c)"
   ]
  },
  {
   "cell_type": "code",
   "execution_count": 3,
   "metadata": {
    "collapsed": false,
    "scrolled": false
   },
   "outputs": [],
   "source": [
    "from sklearn.preprocessing import StandardScaler\n",
    "\n",
    "scaler = StandardScaler()\n",
    "df_scaled = pd.DataFrame(scaler.fit_transform(df), columns=df.columns)\n",
    "\n",
    "# Dejan esta columna sin escalar\n",
    "df_scaled['lpsa'] = df['lpsa']\n"
   ]
  },
  {
   "cell_type": "code",
   "execution_count": 4,
   "metadata": {
    "collapsed": false,
    "scrolled": false
   },
   "outputs": [
    {
     "data": {
      "text/plain": [
       "LinearRegression(copy_X=True, fit_intercept=False, n_jobs=1, normalize=False)"
      ]
     },
     "execution_count": 4,
     "metadata": {},
     "output_type": "execute_result"
    }
   ],
   "source": [
    "import sklearn.linear_model as lm\n",
    "\n",
    "#Selecciona todo menos la ultima columna\n",
    "X = df_scaled.ix[:,:-1]\n",
    "# Guarda n de filas en X\n",
    "N = X.shape[0]\n",
    "# agrega una nueva columna 'intercept' con puros 1\n",
    "X.insert(X.shape[1], 'intercept', np.ones(N))\n",
    "y = df_scaled['lpsa']\n",
    "\n",
    "# Guarda en Xtrain, Ytrain los datos con el valor \"True\" de istrain\n",
    "Xtrain = X[istrain]\n",
    "ytrain = y[istrain]\n",
    "\n",
    "# Guarda en Xtest, Ytest los datos con el valor \"False\" de istrain\n",
    "Xtest = X[np.logical_not(istrain)]\n",
    "ytest = y[np.logical_not(istrain)]\n",
    "\n",
    "#Regresion lineal\n",
    "linreg = lm.LinearRegression(fit_intercept = False)\n",
    "linreg.fit(Xtrain, ytrain)\n"
   ]
  },
  {
   "cell_type": "markdown",
   "metadata": {},
   "source": [
    "El beneficio de la linea 3, es que guarda el numero de filas en una variable y ahorra la necesidad de recalcular cuado se necesite este dato."
   ]
  },
  {
   "cell_type": "markdown",
   "metadata": {},
   "source": [
    "### e)"
   ]
  },
  {
   "cell_type": "code",
   "execution_count": 5,
   "metadata": {
    "collapsed": false,
    "scrolled": false
   },
   "outputs": [],
   "source": [
    "zscores = pd.DataFrame()\n",
    "#Calculo de los Z-scores de los predictores\n",
    "for col in df_scaled:\n",
    "    col_zscore = col + '_zscore'\n",
    "    zscores[col_zscore] = (df_scaled[col] - df_scaled[col].mean())/df_scaled[col].std(ddof=0)\n"
   ]
  },
  {
   "cell_type": "code",
   "execution_count": 12,
   "metadata": {
    "collapsed": false,
    "scrolled": false
   },
   "outputs": [
    {
     "name": "stdout",
     "output_type": "stream",
     "text": [
      "    lcavol_zscore  lweight_zscore  age_zscore  lbph_zscore  svi_zscore  \\\n",
      "0       -1.645861       -2.016634   -1.872101    -1.030029   -0.525657   \n",
      "1       -1.999313       -0.725759   -0.791989    -1.030029   -0.525657   \n",
      "2       -1.587021       -2.200154    1.368234    -1.030029   -0.525657   \n",
      "3       -2.178174       -0.812191   -0.791989    -1.030029   -0.525657   \n",
      "4       -0.510513       -0.461218   -0.251933    -1.030029   -0.525657   \n",
      "5       -2.046706       -0.938806   -1.872101    -1.030029   -0.525657   \n",
      "6       -0.522668       -0.364678    0.018095     0.356701   -0.525657   \n",
      "7       -0.560208       -0.209841   -0.791989     0.995291   -0.525657   \n",
      "8       -1.813627       -0.209841   -2.277143    -1.030029   -0.525657   \n",
      "9       -0.961052       -0.901927   -0.116919    -1.030029   -0.525657   \n",
      "10      -0.934188       -0.058200    0.153109    -1.030029   -0.525657   \n",
      "11      -2.300218       -0.071004   -0.116919     0.808276   -0.525657   \n",
      "12       0.224659       -1.422069   -0.116919    -1.030029   -0.525657   \n",
      "13       0.108346       -1.479863    0.423137    -1.030029   -0.525657   \n",
      "14      -0.122844       -0.438585   -0.927003    -1.030029   -0.525657   \n",
      "15       0.163023       -1.332460    0.288123    -1.030029   -0.525657   \n",
      "16      -1.505735       -0.264970    0.828178     0.792484   -0.525657   \n",
      "17       0.800383        0.047904    0.288123    -1.030029   -0.525657   \n",
      "18      -1.630766       -0.847675   -3.087227    -1.030029   -0.525657   \n",
      "19      -0.995867        0.460895    0.828178     1.079376   -0.525657   \n",
      "20      -0.172794       -0.491739   -0.656975    -1.030029   -0.525657   \n",
      "21       0.604869       -0.300095   -0.521961     0.952261   -0.525657   \n",
      "22      -1.615934       -0.593769   -0.656975    -0.622780   -0.525657   \n",
      "23       0.368177       -0.416166   -0.116919     0.234114   -0.525657   \n",
      "24      -0.822788        0.090234    0.693165     1.038608   -0.525657   \n",
      "25       0.082650       -1.183437    0.558151     0.138397   -0.525657   \n",
      "26      -0.713997        0.212832    0.153109    -1.030029   -0.525657   \n",
      "27      -1.492910        0.556166    0.423137     1.189002   -0.525657   \n",
      "28      -0.264157       -1.173146    0.423137     0.085074   -0.525657   \n",
      "29       0.903714       -0.593769    0.153109    -1.030029   -0.525657   \n",
      "..            ...             ...         ...          ...         ...   \n",
      "67       0.723498        0.990087    1.098206     1.529276   -0.525657   \n",
      "68      -1.531979        1.829210    0.693165    -1.030029   -0.525657   \n",
      "69      -0.133120        2.701661    1.098206     1.542252   -0.525657   \n",
      "70       0.438427       -0.083878   -0.521961    -1.030029    1.902379   \n",
      "71      -0.162033       -0.675391    1.773276     1.142406   -0.525657   \n",
      "72      -0.115218        0.460895    0.693165    -1.030029    1.902379   \n",
      "73       0.417004       -0.920294   -0.521961     0.234114    1.902379   \n",
      "74       1.406541        0.516522    0.693165    -1.030029    1.902379   \n",
      "75       1.527564       -0.856631    0.558151    -0.105070    1.902379   \n",
      "76       0.563639        1.888436    1.098206     1.400882   -0.525657   \n",
      "77       1.012890        1.703065    1.908290     1.542252   -0.525657   \n",
      "78       1.107252       -0.109840    0.693165    -1.030029    1.902379   \n",
      "79       1.219095        0.455773   -0.116919    -1.030029   -0.525657   \n",
      "80       0.100521       -1.310583    0.288123     0.318200   -0.525657   \n",
      "81       0.992420       -0.364678   -0.927003     0.234114   -0.525657   \n",
      "82       1.077152        0.609604    1.773276    -0.435103    1.902379   \n",
      "83       1.132233        0.491400    0.153109     0.703097   -0.525657   \n",
      "84       0.181092        0.189969   -0.521961     1.105280   -0.525657   \n",
      "85       1.665487       -0.258009    0.018095    -1.030029    1.902379   \n",
      "86       0.574980        0.241100   -0.791989     1.066051   -0.525657   \n",
      "87       0.325488       -0.609869   -0.251933    -1.030029    1.902379   \n",
      "88       1.243106        2.555412    0.153109    -1.030029    1.902379   \n",
      "89       0.181092        0.155251    1.638262     0.579043    1.902379   \n",
      "90       1.617422        1.109520    0.558151    -1.030029   -0.525657   \n",
      "91       1.008835        0.114086   -0.386947     0.864484    1.902379   \n",
      "92       1.262444        0.580608    0.558151    -1.030029    1.902379   \n",
      "93       2.107397        0.628738   -2.682185    -1.030029    1.902379   \n",
      "94       1.328267       -0.546127   -1.602073    -1.030029    1.902379   \n",
      "95       1.307045        0.340141    0.558151     1.010033    1.902379   \n",
      "96       1.809719        0.811961    0.558151     0.234114    1.902379   \n",
      "\n",
      "    lcp_zscore  gleason_zscore  pgg45_zscore  \n",
      "0    -0.867655       -1.047571     -0.868957  \n",
      "1    -0.867655       -1.047571     -0.868957  \n",
      "2    -0.867655        0.344407     -0.156155  \n",
      "3    -0.867655       -1.047571     -0.868957  \n",
      "4    -0.867655       -1.047571     -0.868957  \n",
      "5    -0.867655       -1.047571     -0.868957  \n",
      "6    -0.867655       -1.047571     -0.868957  \n",
      "7    -0.867655       -1.047571     -0.868957  \n",
      "8    -0.867655       -1.047571     -0.868957  \n",
      "9    -0.867655       -1.047571     -0.868957  \n",
      "10   -0.867655       -1.047571     -0.868957  \n",
      "11   -0.867655       -1.047571     -0.868957  \n",
      "12   -0.300837        0.344407      0.200246  \n",
      "13   -0.867655        0.344407     -0.690757  \n",
      "14   -0.180743        0.344407     -0.690757  \n",
      "15   -0.867655       -1.047571     -0.868957  \n",
      "16   -0.300837        0.344407      0.200246  \n",
      "17    0.396060       -1.047571     -0.868957  \n",
      "18   -0.867655       -1.047571     -0.868957  \n",
      "19   -0.867655       -1.047571     -0.868957  \n",
      "20   -0.867655       -1.047571     -0.868957  \n",
      "21    1.098068        0.344407     -0.156155  \n",
      "22   -0.867655       -1.047571     -0.868957  \n",
      "23    0.976274        0.344407      1.269449  \n",
      "24   -0.867655       -1.047571     -0.868957  \n",
      "25   -0.867655       -1.047571     -0.868957  \n",
      "26   -0.445098        0.344407      1.625850  \n",
      "27   -0.867655        0.344407     -0.156155  \n",
      "28    0.164020        0.344407      1.982251  \n",
      "29    1.293115       -1.047571     -0.868957  \n",
      "..         ...             ...           ...  \n",
      "67   -0.180743        0.344407     -0.512556  \n",
      "68   -0.867655       -1.047571     -0.868957  \n",
      "69   -0.445098        0.344407     -0.690757  \n",
      "70    1.079149        0.344407      1.269449  \n",
      "71   -0.867655        0.344407      0.022045  \n",
      "72    0.289362        0.344407     -0.156155  \n",
      "73    0.976274        3.128363      2.338652  \n",
      "74    1.501706        0.344407     -0.156155  \n",
      "75    1.868936        0.344407      0.913048  \n",
      "76    0.488950        0.344407      1.269449  \n",
      "77   -0.867655        0.344407     -0.512556  \n",
      "78    1.986568        0.344407      1.625850  \n",
      "79    0.396060        0.344407      0.913048  \n",
      "80    0.289362        0.344407      0.556647  \n",
      "81    1.802014        0.344407      1.269449  \n",
      "82    0.531250        0.344407      0.200246  \n",
      "83    1.386436        3.128363      1.625850  \n",
      "84    0.711919        0.344407      0.200246  \n",
      "85    1.802014        0.344407      1.269449  \n",
      "86   -0.867655       -1.047571     -0.868957  \n",
      "87    0.344689        0.344407      0.200246  \n",
      "88    1.900197        0.344407      1.269449  \n",
      "89    0.711919        0.344407      1.804051  \n",
      "90   -0.867655       -1.047571     -0.868957  \n",
      "91   -0.867655        0.344407     -0.334356  \n",
      "92    1.079149        0.344407      1.269449  \n",
      "93    1.688267        0.344407      0.556647  \n",
      "94    1.900197        0.344407     -0.512556  \n",
      "95    1.249088        0.344407      1.982251  \n",
      "96    2.216735        0.344407     -0.156155  \n",
      "\n",
      "[97 rows x 8 columns]\n"
     ]
    }
   ],
   "source": [
    "zscores = zscores.drop('lpsa_zscore', axis=1)\n",
    "print zscores"
   ]
  },
  {
   "cell_type": "code",
   "execution_count": null,
   "metadata": {
    "collapsed": true
   },
   "outputs": [],
   "source": []
  }
 ],
 "metadata": {
  "kernelspec": {
   "display_name": "Python [Root]",
   "language": "python",
   "name": "Python [Root]"
  },
  "language_info": {
   "codemirror_mode": {
    "name": "ipython",
    "version": 2
   },
   "file_extension": ".py",
   "mimetype": "text/x-python",
   "name": "python",
   "nbconvert_exporter": "python",
   "pygments_lexer": "ipython2",
   "version": "2.7.12"
  }
 },
 "nbformat": 4,
 "nbformat_minor": 0
}
