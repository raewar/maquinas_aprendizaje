{
 "cells": [
  {
   "cell_type": "markdown",
   "metadata": {},
   "source": [
    "# Pregunta 4"
   ]
  },
  {
   "cell_type": "markdown",
   "metadata": {},
   "source": [
    "### Lectura"
   ]
  },
  {
   "cell_type": "code",
   "execution_count": 1,
   "metadata": {
    "collapsed": false
   },
   "outputs": [],
   "source": [
    "import pandas as pd\n",
    "import numpy as np\n",
    "import tarfile\n",
    "from urllib import urlretrieve\n",
    "\n",
    "url = 'http://octopus.inf.utfsm.cl/~ricky/movies.tar.gz'\n",
    "\n",
    "filename, headers = urlretrieve(url, 'movies.tar.gz')"
   ]
  },
  {
   "cell_type": "code",
   "execution_count": 2,
   "metadata": {
    "collapsed": false
   },
   "outputs": [],
   "source": [
    "tar = tarfile.open(filename)\n",
    "\n",
    "dev_x = \"movies-preproc/ngrams-deprels-origin.runtime.budget.numscreen.ratings.seasons/dev.x.mm\"\n",
    "test_x = \"movies-preproc/ngrams-deprels-origin.runtime.budget.numscreen.ratings.seasons/test.x.mm\"\n",
    "dev_y = \"movies-preproc/ngrams-deprels-origin.runtime.budget.numscreen.ratings.seasons/dev.y.dat\"\n",
    "test_y = \"movies-preproc/ngrams-deprels-origin.runtime.budget.numscreen.ratings.seasons/test.y.dat\"\n",
    "train_x = \"movies-preproc/ngrams-deprels-origin.runtime.budget.numscreen.ratings.seasons/train.x.mm\"\n",
    "train_y = \"movies-preproc/ngrams-deprels-origin.runtime.budget.numscreen.ratings.seasons/train.y.dat\"\n",
    "vocab = \"movies-preproc/ngrams-deprels-origin.runtime.budget.numscreen.ratings.seasons/vocab\"\n",
    "\n",
    "dev_x_stars = \"movies-preproc/ngrams-deprels-fp1-origin.runtime.budget.numscreen.ratings.seasons.stars/dev.x.mm\"\n",
    "test_x_stars = \"movies-preproc/ngrams-deprels-fp1-origin.runtime.budget.numscreen.ratings.seasons.stars/test.x.mm\"\n",
    "dev_y_stars = \"movies-preproc/ngrams-deprels-fp1-origin.runtime.budget.numscreen.ratings.seasons.stars/dev.y.dat\"\n",
    "test_y_stars = \"movies-preproc/ngrams-deprels-fp1-origin.runtime.budget.numscreen.ratings.seasons.stars/test.y.dat\"\n",
    "train_x_stars = \"movies-preproc/ngrams-deprels-fp1-origin.runtime.budget.numscreen.ratings.seasons.stars/train.x.mm\"\n",
    "train_y_stars = \"movies-preproc/ngrams-deprels-fp1-origin.runtime.budget.numscreen.ratings.seasons.stars/train.y.dat\"\n",
    "vocab_stars = \"movies-preproc/ngrams-deprels-fp1-origin.runtime.budget.numscreen.ratings.seasons.stars/vocab\"\n",
    "\n",
    "for tarinfo in tar:\n",
    "\n",
    "    if tarinfo.name == dev_x:\n",
    "        d_x = tar.extractfile(tarinfo.name)\n",
    "    if tarinfo.name == dev_y:\n",
    "        d_y = tar.extractfile(tarinfo.name)\n",
    "    if tarinfo.name == test_x:\n",
    "        t_x = tar.extractfile(tarinfo.name)\n",
    "    if tarinfo.name == test_y:\n",
    "        t_y = tar.extractfile(tarinfo.name)\n",
    "    if tarinfo.name == train_x:\n",
    "        tr_x = tar.extractfile(tarinfo.name)\n",
    "    if tarinfo.name == train_y:\n",
    "        tr_y = tar.extractfile(tarinfo.name)\n",
    "    if tarinfo.name == vocab:\n",
    "        v = tar.extractfile(tarinfo.name)\n",
    "        \n",
    "    if tarinfo.name == dev_x_stars:\n",
    "        d_x_s = tar.extractfile(tarinfo.name)\n",
    "    if tarinfo.name == dev_y_stars:\n",
    "        d_y_s = tar.extractfile(tarinfo.name)\n",
    "    if tarinfo.name == test_x_stars:\n",
    "        t_x_s = tar.extractfile(tarinfo.name)\n",
    "    if tarinfo.name == test_y_stars:\n",
    "        t_y_s = tar.extractfile(tarinfo.name)\n",
    "    if tarinfo.name == train_x_stars:\n",
    "        tr_x_s = tar.extractfile(tarinfo.name)    \n",
    "    if tarinfo.name == train_y_stars:\n",
    "        tr_y_s = tar.extractfile(tarinfo.name)\n",
    "    if tarinfo.name == vocab_stars:\n",
    "        v_s = tar.extractfile(tarinfo.name)\n",
    "\n",
    "import scipy.io as sio\n",
    "from scipy.sparse import csr_matrix\n",
    "\n",
    "\n",
    "v_array = v.read().split(\"\\n\")\n",
    "v_s_array = v_s.read().split(\"\\n\")\n",
    "\n",
    "d_y_array = np.loadtxt(d_y)\n",
    "t_y_array = np.loadtxt(t_y)\n",
    "tr_y_array = np.loadtxt(tr_y)\n",
    "d_y_s_array = np.loadtxt(d_y_s)\n",
    "t_y_s_array = np.loadtxt(t_y_s)\n",
    "tr_y_s_array = np.loadtxt(tr_y_s)\n",
    "\n",
    "d_x_matrix = csr_matrix(sio.mmread(d_x))\n",
    "t_x_matrix = csr_matrix(sio.mmread(t_x))\n",
    "tr_x_matrix = csr_matrix(sio.mmread(tr_x))\n",
    "\n",
    "d_x_s_matrix = csr_matrix(sio.mmread(d_x_s))\n",
    "t_x_s_matrix = csr_matrix(sio.mmread(t_x_s))\n",
    "tr_x_s_matrix = csr_matrix(sio.mmread(tr_x_s))\n",
    "\n",
    "tar.close()"
   ]
  },
  {
   "cell_type": "markdown",
   "metadata": {},
   "source": [
    "Es importante mantener el formato __sparse__ de las matrices, por un tema de optimización de memoria. Es necesario tener solo en memoria los datos no nulos de la matriz. Esto es significativo cuando se trabaja con matrices muy grandes, y donde muchos de los elementos son nulos. Asi, con un formato __sparse__, no hay necesidad de desperdiciar memoria en datos que no estan, haciendo mas eficiente el procesamiento de estas matrices."
   ]
  },
  {
   "cell_type": "markdown",
   "metadata": {},
   "source": [
    "### Modelo a utilizar\n",
    "En esta ocación, el modelo a utilizar para modelar este problema es el _ElasticNet_, propuesto en el paper _\"Movie Reviews and Revenues: An Experiment in Text Regression\"_. Es una regresion lineal que combina las penalizaciones L1 y L2. Para un $\\alpha = 0$, equivale a utilizar _Ridge_ y $\\alpha = 1$ a _Lasso_. \n",
    "\n",
    "$$\\theta = argmin \\frac{1}{2n} \\sum_{i=1}^{n}{(y_i-(\\beta_0 + x^T_i\\beta) )^2 + \\lambda P(\\beta)}$$\n",
    "$$P(\\beta) = \\sum_{j=1}^p (\\frac{1}{2} (1-\\alpha) \\beta_j^2+\\alpha |\\beta_j|)$$\n",
    "\n",
    "Para estimar los mejores parametros, utilizando los datos de entrenamiento, se fueron variando los valores de $\\alpha$ y $\\lambda$, evaluando la funcion sobre los datos de desarrollo. A medida que se consige un mejor coeficiente de ajuste, se van guardando los paramentos.\n"
   ]
  },
  {
   "cell_type": "code",
   "execution_count": 6,
   "metadata": {
    "collapsed": false
   },
   "outputs": [],
   "source": [
    "from sklearn.linear_model import ElasticNet\n",
    "\n",
    "def best_params_dev(b):\n",
    "    alfa = np.logspace(-2, 1, num=15, base=10)\n",
    "    model = ElasticNet(fit_intercept = False)\n",
    "    best_a = 0\n",
    "    best_b = 0\n",
    "    best_coef = 0\n",
    "\n",
    "    for a in alfa:\n",
    "        model.set_params(alpha = a, l1_ratio = b)\n",
    "        model.fit(tr_x_s_matrix, tr_y_s_array)\n",
    "        coef = model.score(d_x_s_matrix, d_y_s_array)\n",
    "        print '{:^15} {:^10} {:^15}'.format(a, b, coef)\n",
    "        if best_coef < coef:\n",
    "            best_coef = coef\n",
    "            best_a = a\n",
    "            best_b = b\n",
    "    print \"Para b: {0}, el mejor a: {1} con un coeficiente de {2}\".format(best_b, best_a, best_coef)        \n",
    "    \n",
    "    return a,b"
   ]
  },
  {
   "cell_type": "code",
   "execution_count": 7,
   "metadata": {
    "collapsed": false
   },
   "outputs": [
    {
     "name": "stdout",
     "output_type": "stream",
     "text": [
      "     0.01           0      0.582868481063 \n",
      "0.0163789370695     0      0.615779794337 \n",
      "0.0268269579528     0      0.618761707432 \n",
      "0.0439397056076     0      0.613739738906 \n",
      "0.0719685673001     0      0.614459741224 \n",
      "0.117876863479      0      0.617550671887 \n",
      "0.193069772888      0      0.622107859447 \n",
      "0.316227766017      0      0.621930441703 \n",
      "0.517947467923      0      0.623057637723 \n",
      "0.848342898244      0      0.624057426897 \n",
      " 1.38949549437      0      0.623998436493 \n",
      " 2.27584592607      0      0.625515761525 \n",
      " 3.72759372031      0      0.623172288767 \n",
      " 6.10540229659      0      0.619454577138 \n",
      "     10.0           0      0.614623372903 \n",
      "Para b: 0, el mejor a: 2.27584592607 con un coeficiente de 0.625515761525\n"
     ]
    }
   ],
   "source": [
    "a0,b0 = best_params_dev(0)"
   ]
  },
  {
   "cell_type": "code",
   "execution_count": 8,
   "metadata": {
    "collapsed": false
   },
   "outputs": [
    {
     "name": "stdout",
     "output_type": "stream",
     "text": [
      "     0.01          0.2     0.559482367068 \n",
      "0.0163789370695    0.2     0.612247854794 \n",
      "0.0268269579528    0.2     0.617003201363 \n",
      "0.0439397056076    0.2     0.615259681129 \n",
      "0.0719685673001    0.2     0.612304009372 \n",
      "0.117876863479     0.2     0.615820617868 \n",
      "0.193069772888     0.2     0.619387446976 \n",
      "0.316227766017     0.2     0.621865703316 \n",
      "0.517947467923     0.2     0.621839621145 \n",
      "0.848342898244     0.2      0.62343344878 \n",
      " 1.38949549437     0.2      0.62374138437 \n",
      " 2.27584592607     0.2     0.625014384564 \n",
      " 3.72759372031     0.2     0.624660382142 \n",
      " 6.10540229659     0.2     0.621220887345 \n",
      "     10.0          0.2     0.617247327497 \n",
      "Para b: 0.2, el mejor a: 2.27584592607 con un coeficiente de 0.625014384564\n"
     ]
    }
   ],
   "source": [
    "a1,b1 = best_params_dev(0.2)"
   ]
  },
  {
   "cell_type": "code",
   "execution_count": 9,
   "metadata": {
    "collapsed": false
   },
   "outputs": [
    {
     "name": "stdout",
     "output_type": "stream",
     "text": [
      "     0.01          0.4     0.532996655498 \n",
      "0.0163789370695    0.4     0.580575630501 \n",
      "0.0268269579528    0.4     0.615687046704 \n",
      "0.0439397056076    0.4     0.619519258249 \n",
      "0.0719685673001    0.4     0.613985708999 \n",
      "0.117876863479     0.4     0.614341822763 \n",
      "0.193069772888     0.4      0.61744921449 \n",
      "0.316227766017     0.4     0.621970165633 \n",
      "0.517947467923     0.4     0.621921702096 \n",
      "0.848342898244     0.4     0.622964935371 \n",
      " 1.38949549437     0.4     0.624026389635 \n",
      " 2.27584592607     0.4     0.623957623102 \n",
      " 3.72759372031     0.4     0.625511889925 \n",
      " 6.10540229659     0.4     0.623295132268 \n",
      "     10.0          0.4     0.619595163601 \n",
      "Para b: 0.4, el mejor a: 3.72759372031 con un coeficiente de 0.625511889925\n"
     ]
    }
   ],
   "source": [
    "a2,b2 = best_params_dev(0.4)"
   ]
  },
  {
   "cell_type": "code",
   "execution_count": 10,
   "metadata": {
    "collapsed": false
   },
   "outputs": [
    {
     "name": "stdout",
     "output_type": "stream",
     "text": [
      "     0.01          0.6     0.514741536079 \n",
      "0.0163789370695    0.6     0.541454765571 \n",
      "0.0268269579528    0.6     0.591971128653 \n",
      "0.0439397056076    0.6     0.615727997649 \n",
      "0.0719685673001    0.6     0.615155602823 \n",
      "0.117876863479     0.6     0.613054982867 \n",
      "0.193069772888     0.6     0.614708238457 \n",
      "0.316227766017     0.6     0.617984372786 \n",
      "0.517947467923     0.6     0.622321075444 \n",
      "0.848342898244     0.6     0.621921749737 \n",
      " 1.38949549437     0.6     0.623312455783 \n",
      " 2.27584592607     0.6      0.62407005118 \n",
      " 3.72759372031     0.6     0.624194505955 \n",
      " 6.10540229659     0.6     0.625459499423 \n",
      "     10.0          0.6     0.622672271641 \n",
      "Para b: 0.6, el mejor a: 6.10540229659 con un coeficiente de 0.625459499423\n"
     ]
    }
   ],
   "source": [
    "a3,b3 = best_params_dev(0.6)"
   ]
  },
  {
   "cell_type": "code",
   "execution_count": 11,
   "metadata": {
    "collapsed": false
   },
   "outputs": [
    {
     "name": "stdout",
     "output_type": "stream",
     "text": [
      "     0.01          0.8     0.528393978425 \n",
      "0.0163789370695    0.8     0.525089891789 \n",
      "0.0268269579528    0.8     0.522146184865 \n",
      "0.0439397056076    0.8     0.567511974424 \n",
      "0.0719685673001    0.8     0.614984370698 \n",
      "0.117876863479     0.8     0.619859836391 \n",
      "0.193069772888     0.8      0.61520845309 \n",
      "0.316227766017     0.8     0.613166521544 \n",
      "0.517947467923     0.8     0.616748265966 \n",
      "0.848342898244     0.8     0.620515018886 \n",
      " 1.38949549437     0.8     0.621833915059 \n",
      " 2.27584592607     0.8     0.622247047466 \n",
      " 3.72759372031     0.8     0.623665290761 \n",
      " 6.10540229659     0.8     0.623764631593 \n",
      "     10.0          0.8     0.625338921914 \n",
      "Para b: 0.8, el mejor a: 10.0 con un coeficiente de 0.625338921914\n"
     ]
    }
   ],
   "source": [
    "a4,b4 = best_params_dev(0.8)"
   ]
  },
  {
   "cell_type": "code",
   "execution_count": 12,
   "metadata": {
    "collapsed": false
   },
   "outputs": [
    {
     "name": "stdout",
     "output_type": "stream",
     "text": [
      "     0.01           1      -0.474810808909\n",
      "0.0163789370695     1       -0.4748095844 \n",
      "0.0268269579528     1      -0.474807107352\n",
      "0.0439397056076     1      -0.474803619231\n",
      "0.0719685673001     1      -0.474798395156\n",
      "0.117876863479      1      -0.47479103477 \n",
      "0.193069772888      1      -0.474777144342\n",
      "0.316227766017      1      -0.474755207871\n",
      "0.517947467923      1      -0.474710966352\n",
      "0.848342898244      1      -0.474645219185\n",
      " 1.38949549437      1      -0.474553357813\n",
      " 2.27584592607      1      -0.474208237872\n",
      " 3.72759372031      1      -0.390015582279\n",
      " 6.10540229659      1      -0.32843855412 \n",
      "     10.0           1      -0.263461550071\n",
      "Para b: 0, el mejor a: 0 con un coeficiente de 0\n"
     ]
    }
   ],
   "source": [
    "a5,b5 = best_params_dev(1)"
   ]
  },
  {
   "cell_type": "markdown",
   "metadata": {},
   "source": [
    "Los mejores parametros encontrados fueron:\n",
    "\n",
    "$\\alpha = 0$ y $\\lambda = 2.27584592607$\n",
    "\n",
    "Correlación obtenida : "
   ]
  },
  {
   "cell_type": "code",
   "execution_count": 1,
   "metadata": {
    "collapsed": false
   },
   "outputs": [
    {
     "ename": "NameError",
     "evalue": "name 'ElasticNet' is not defined",
     "output_type": "error",
     "traceback": [
      "\u001b[1;31m---------------------------------------------------------------------------\u001b[0m",
      "\u001b[1;31mNameError\u001b[0m                                 Traceback (most recent call last)",
      "\u001b[1;32m<ipython-input-1-532a9300b43a>\u001b[0m in \u001b[0;36m<module>\u001b[1;34m()\u001b[0m\n\u001b[1;32m----> 1\u001b[1;33m \u001b[0mmodel\u001b[0m \u001b[1;33m=\u001b[0m \u001b[0mElasticNet\u001b[0m\u001b[1;33m(\u001b[0m\u001b[0mfit_intercept\u001b[0m \u001b[1;33m=\u001b[0m \u001b[0mFalse\u001b[0m\u001b[1;33m)\u001b[0m\u001b[1;33m\u001b[0m\u001b[0m\n\u001b[0m\u001b[0;32m      2\u001b[0m \u001b[0mmodel\u001b[0m\u001b[1;33m.\u001b[0m\u001b[0mset_params\u001b[0m\u001b[1;33m(\u001b[0m\u001b[0malpha\u001b[0m \u001b[1;33m=\u001b[0m \u001b[0ma0\u001b[0m\u001b[1;33m,\u001b[0m \u001b[0ml1_ratio\u001b[0m \u001b[1;33m=\u001b[0m \u001b[0mb0\u001b[0m\u001b[1;33m)\u001b[0m\u001b[1;33m\u001b[0m\u001b[0m\n\u001b[0;32m      3\u001b[0m \u001b[0mmodel\u001b[0m\u001b[1;33m.\u001b[0m\u001b[0mfit\u001b[0m\u001b[1;33m(\u001b[0m\u001b[0mtr_x_s_matrix\u001b[0m\u001b[1;33m,\u001b[0m \u001b[0mtr_y_s_array\u001b[0m\u001b[1;33m)\u001b[0m\u001b[1;33m\u001b[0m\u001b[0m\n\u001b[0;32m      4\u001b[0m \u001b[1;33m\u001b[0m\u001b[0m\n\u001b[0;32m      5\u001b[0m \u001b[1;32mprint\u001b[0m \u001b[1;34m\"R2=%f\"\u001b[0m\u001b[1;33m%\u001b[0m\u001b[0mmodel\u001b[0m\u001b[1;33m.\u001b[0m\u001b[0mscore\u001b[0m\u001b[1;33m(\u001b[0m\u001b[0mt_x_s_matrix\u001b[0m\u001b[1;33m,\u001b[0m \u001b[0mt_y_s_array\u001b[0m\u001b[1;33m)\u001b[0m\u001b[1;33m\u001b[0m\u001b[0m\n",
      "\u001b[1;31mNameError\u001b[0m: name 'ElasticNet' is not defined"
     ]
    }
   ],
   "source": [
    "model = ElasticNet(fit_intercept = False)\n",
    "model.set_params(alpha = a0, l1_ratio = b0)\n",
    "model.fit(tr_x_s_matrix, tr_y_s_array)\n",
    "\n",
    "print \"R2=%f\"%model.score(t_x_s_matrix, t_y_s_array)"
   ]
  },
  {
   "cell_type": "code",
   "execution_count": null,
   "metadata": {
    "collapsed": true
   },
   "outputs": [],
   "source": []
  }
 ],
 "metadata": {
  "anaconda-cloud": {},
  "kernelspec": {
   "display_name": "Python [Root]",
   "language": "python",
   "name": "Python [Root]"
  },
  "language_info": {
   "codemirror_mode": {
    "name": "ipython",
    "version": 2
   },
   "file_extension": ".py",
   "mimetype": "text/x-python",
   "name": "python",
   "nbconvert_exporter": "python",
   "pygments_lexer": "ipython2",
   "version": "2.7.12"
  }
 },
 "nbformat": 4,
 "nbformat_minor": 0
}
