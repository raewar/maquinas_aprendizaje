{
 "cells": [
  {
   "cell_type": "markdown",
   "metadata": {},
   "source": [
    "# Pregunta 4"
   ]
  },
  {
   "cell_type": "markdown",
   "metadata": {},
   "source": [
    "### Lectura"
   ]
  },
  {
   "cell_type": "code",
   "execution_count": 65,
   "metadata": {
    "collapsed": false
   },
   "outputs": [],
   "source": [
    "import pandas as pd\n",
    "import numpy as np\n",
    "import tarfile\n",
    "from urllib import urlretrieve\n",
    "\n",
    "url = 'http://octopus.inf.utfsm.cl/~ricky/movies.tar.gz'\n",
    "\n",
    "filename, headers = urlretrieve(url, 'movies.tar.gz')"
   ]
  },
  {
   "cell_type": "code",
   "execution_count": 144,
   "metadata": {
    "collapsed": false
   },
   "outputs": [],
   "source": [
    "tar = tarfile.open(filename)\n",
    "\n",
    "dev_x = \"movies-preproc/ngrams-deprels-origin.runtime.budget.numscreen.ratings.seasons/dev.x.mm\"\n",
    "test_x = \"movies-preproc/ngrams-deprels-origin.runtime.budget.numscreen.ratings.seasons/test.x.mm\"\n",
    "dev_y = \"movies-preproc/ngrams-deprels-origin.runtime.budget.numscreen.ratings.seasons/dev.y.dat\"\n",
    "test_y = \"movies-preproc/ngrams-deprels-origin.runtime.budget.numscreen.ratings.seasons/test.y.dat\"\n",
    "train_x = \"movies-preproc/ngrams-deprels-origin.runtime.budget.numscreen.ratings.seasons/train.x.mm\"\n",
    "train_y = \"movies-preproc/ngrams-deprels-origin.runtime.budget.numscreen.ratings.seasons/train.y.dat\"\n",
    "vocab = \"movies-preproc/ngrams-deprels-origin.runtime.budget.numscreen.ratings.seasons/vocab\"\n",
    "\n",
    "dev_x_stars = \"movies-preproc/ngrams-deprels-fp1-origin.runtime.budget.numscreen.ratings.seasons.stars/dev.x.mm\"\n",
    "test_x_stars = \"movies-preproc/ngrams-deprels-fp1-origin.runtime.budget.numscreen.ratings.seasons.stars/test.x.mm\"\n",
    "dev_y_stars = \"movies-preproc/ngrams-deprels-fp1-origin.runtime.budget.numscreen.ratings.seasons.stars/dev.y.dat\"\n",
    "test_y_stars = \"movies-preproc/ngrams-deprels-fp1-origin.runtime.budget.numscreen.ratings.seasons.stars/test.y.dat\"\n",
    "train_x_stars = \"movies-preproc/ngrams-deprels-fp1-origin.runtime.budget.numscreen.ratings.seasons.stars/train.x.mm\"\n",
    "train_y_stars = \"movies-preproc/ngrams-deprels-fp1-origin.runtime.budget.numscreen.ratings.seasons.stars/train.y.dat\"\n",
    "vocab_stars = \"movies-preproc/ngrams-deprels-fp1-origin.runtime.budget.numscreen.ratings.seasons.stars/vocab\"\n",
    "\n",
    "for tarinfo in tar:\n",
    "\n",
    "    if tarinfo.name == dev_x:\n",
    "        d_x = tar.extractfile(tarinfo.name)\n",
    "    if tarinfo.name == dev_y:\n",
    "        d_y = tar.extractfile(tarinfo.name)\n",
    "    if tarinfo.name == test_x:\n",
    "        t_x = tar.extractfile(tarinfo.name)\n",
    "    if tarinfo.name == test_y:\n",
    "        t_y = tar.extractfile(tarinfo.name)\n",
    "    if tarinfo.name == train_x:\n",
    "        tr_x = tar.extractfile(tarinfo.name)\n",
    "    if tarinfo.name == train_y:\n",
    "        tr_y = tar.extractfile(tarinfo.name)\n",
    "    if tarinfo.name == vocab:\n",
    "        v = tar.extractfile(tarinfo.name)\n",
    "        \n",
    "    if tarinfo.name == dev_x_stars:\n",
    "        d_x_s = tar.extractfile(tarinfo.name)\n",
    "    if tarinfo.name == dev_y_stars:\n",
    "        d_y_s = tar.extractfile(tarinfo.name)\n",
    "    if tarinfo.name == test_x_stars:\n",
    "        t_x_s = tar.extractfile(tarinfo.name)\n",
    "    if tarinfo.name == test_y_stars:\n",
    "        t_y_s = tar.extractfile(tarinfo.name)\n",
    "    if tarinfo.name == train_x_stars:\n",
    "        tr_x_s = tar.extractfile(tarinfo.name)    \n",
    "    if tarinfo.name == train_y_stars:\n",
    "        tr_y_s = tar.extractfile(tarinfo.name)\n",
    "    if tarinfo.name == vocab_stars:\n",
    "        v_s = tar.extractfile(tarinfo.name)\n",
    "\n",
    "import scipy.io as sio\n",
    "from scipy.sparse import csr_matrix\n",
    "\n",
    "\n",
    "v_array = v.read().split(\"\\n\")\n",
    "v_s_array = v_s.read().split(\"\\n\")\n",
    "\n",
    "d_y_array = np.loadtxt(d_y)\n",
    "t_y_array = np.loadtxt(t_y)\n",
    "tr_y_array = np.loadtxt(tr_y)\n",
    "d_y_s_array = np.loadtxt(d_y_s)\n",
    "t_y_s_array = np.loadtxt(t_y_s)\n",
    "tr_y_s_array = np.loadtxt(tr_y_s)\n",
    "\n",
    "d_x_matrix = csr_matrix(sio.mmread(d_x))\n",
    "t_x_matrix = csr_matrix(sio.mmread(t_x))\n",
    "tr_x_matrix = csr_matrix(sio.mmread(tr_x))\n",
    "\n",
    "d_x_s_matrix = csr_matrix(sio.mmread(d_x_s))\n",
    "t_x_s_matrix = csr_matrix(sio.mmread(t_x_s))\n",
    "tr_x_s_matrix = csr_matrix(sio.mmread(tr_x_s))\n",
    "\n",
    "tar.close()"
   ]
  },
  {
   "cell_type": "markdown",
   "metadata": {},
   "source": []
  },
  {
   "cell_type": "code",
   "execution_count": 320,
   "metadata": {
    "collapsed": false
   },
   "outputs": [],
   "source": [
    "def isMeta(inputString):\n",
    "    number = any(char.isdigit() for char in inputString)\n",
    "    return number\n",
    "\n",
    "def isI(inputString):\n",
    "    upper = any(char.isupper() for char in inputString)\n",
    "    lower = any(char.islower() for char in inputString)\n",
    "    number = any(char.isdigit() for char in inputString)\n",
    "    if upper == False and lower == True and number == False:\n",
    "        return True\n",
    "    else:\n",
    "        return False\n",
    "\n",
    "def isII(inputString):\n",
    "    upper = any(char.isupper() for char in inputString)\n",
    "    pato = any(char == \"<\" for char in inputString)\n",
    "    number = any(char.isdigit() for char in inputString)\n",
    "    if upper == True and pato == False and number == False:\n",
    "        return True\n",
    "    else:\n",
    "        return False\n",
    "def isIII(inputString):\n",
    "    upper = any(char.isupper() for char in inputString)\n",
    "    pato = any(char == \"<\" for char in inputString)\n",
    "    number = any(char.isdigit() for char in inputString)\n",
    "    if upper == True and pato == True and number == False:\n",
    "        return True\n",
    "    else:\n",
    "        return False\n",
    "\n",
    "meta = []\n",
    "I = []\n",
    "II = []\n",
    "III = []\n",
    "\n",
    "count = 0\n",
    "for i in v_array:\n",
    "    if isMeta(i):\n",
    "        meta.append(count)\n",
    "    elif isI(i):\n",
    "        I.append(count)\n",
    "    elif isII(i):\n",
    "        II.append(count)\n",
    "    elif isIII(i):\n",
    "        III.append(count)\n",
    "    count += 1\n",
    "    \n",
    "meta_s = []\n",
    "I_s = []\n",
    "II_s = []\n",
    "III_s = []\n",
    "\n",
    "count = 0\n",
    "for i in v_s_array:\n",
    "    if isMeta(i):\n",
    "        meta_s.append(count)\n",
    "    elif isI(i):\n",
    "        I_s.append(count)\n",
    "    elif isII(i):\n",
    "        II_s.append(count)\n",
    "    elif isIII(i):\n",
    "        III_s.append(count)\n",
    "    count += 1\n",
    "    \n"
   ]
  },
  {
   "cell_type": "code",
   "execution_count": null,
   "metadata": {
    "collapsed": false
   },
   "outputs": [],
   "source": []
  },
  {
   "cell_type": "markdown",
   "metadata": {},
   "source": [
    "### Linear"
   ]
  },
  {
   "cell_type": "code",
   "execution_count": 329,
   "metadata": {
    "collapsed": false
   },
   "outputs": [
    {
     "name": "stdout",
     "output_type": "stream",
     "text": [
      "R2=0.034892\n"
     ]
    }
   ],
   "source": [
    "import sklearn.linear_model as lm\n",
    "\n",
    "model = lm.LinearRegression(fit_intercept = False, normalize=True)\n",
    "\n",
    "model.fit(tr_x_matrix[:, I], tr_y_array)\n",
    "\n",
    "print \"R2=%f\"%model.score(t_x_matrix[:, I], t_y_array)"
   ]
  },
  {
   "cell_type": "markdown",
   "metadata": {},
   "source": [
    "### Lasso"
   ]
  },
  {
   "cell_type": "code",
   "execution_count": 345,
   "metadata": {
    "collapsed": false
   },
   "outputs": [
    {
     "name": "stdout",
     "output_type": "stream",
     "text": [
      "R2=-0.301603\n"
     ]
    }
   ],
   "source": [
    "from sklearn.linear_model import Lasso\n",
    "\n",
    "clf = Lasso(alpha = 0.1)\n",
    "model = Lasso(fit_intercept=False, alpha = 0.1)\n",
    "\n",
    "model.fit(tr_x_matrix[:, meta+I], tr_y_array)\n",
    "          \n",
    "print \"R2=%f\"%model.score(t_x_matrix[:, meta+I], t_y_array)"
   ]
  },
  {
   "cell_type": "markdown",
   "metadata": {},
   "source": [
    "### Ridge"
   ]
  },
  {
   "cell_type": "code",
   "execution_count": 346,
   "metadata": {
    "collapsed": false
   },
   "outputs": [
    {
     "name": "stdout",
     "output_type": "stream",
     "text": [
      "R2=0.156374\n"
     ]
    }
   ],
   "source": [
    "from sklearn.linear_model import Ridge\n",
    "\n",
    "alphas_ = np.logspace(4,-1,base=10)\n",
    "coefs = []\n",
    "model = Ridge(fit_intercept=False, solver='sag', alpha=1.0)\n",
    "\n",
    "model.fit(tr_x_matrix[:, meta+I], tr_y_array)\n",
    "\n",
    "\n",
    "print \"R2=%f\"%model.score(t_x_matrix[:, meta+I], t_y_array)"
   ]
  },
  {
   "cell_type": "code",
   "execution_count": null,
   "metadata": {
    "collapsed": true
   },
   "outputs": [],
   "source": []
  }
 ],
 "metadata": {
  "kernelspec": {
   "display_name": "Python [Root]",
   "language": "python",
   "name": "Python [Root]"
  },
  "language_info": {
   "codemirror_mode": {
    "name": "ipython",
    "version": 2
   },
   "file_extension": ".py",
   "mimetype": "text/x-python",
   "name": "python",
   "nbconvert_exporter": "python",
   "pygments_lexer": "ipython2",
   "version": "2.7.12"
  }
 },
 "nbformat": 4,
 "nbformat_minor": 0
}
