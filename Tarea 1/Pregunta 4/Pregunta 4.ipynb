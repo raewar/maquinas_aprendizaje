{
 "cells": [
  {
   "cell_type": "markdown",
   "metadata": {},
   "source": [
    "# Pregunta 4"
   ]
  },
  {
   "cell_type": "markdown",
   "metadata": {},
   "source": [
    "### Lectura"
   ]
  },
  {
   "cell_type": "code",
   "execution_count": 1,
   "metadata": {
    "collapsed": false
   },
   "outputs": [],
   "source": [
    "import pandas as pd\n",
    "import numpy as np\n",
    "import tarfile\n",
    "from urllib import urlretrieve\n",
    "\n",
    "url = 'http://octopus.inf.utfsm.cl/~ricky/movies.tar.gz'\n",
    "\n",
    "filename, headers = urlretrieve(url, 'movies.tar.gz')"
   ]
  },
  {
   "cell_type": "code",
   "execution_count": 2,
   "metadata": {
    "collapsed": false
   },
   "outputs": [],
   "source": [
    "tar = tarfile.open(filename)\n",
    "\n",
    "dev_x = \"movies-preproc/ngrams-deprels-origin.runtime.budget.numscreen.ratings.seasons/dev.x.mm\"\n",
    "test_x = \"movies-preproc/ngrams-deprels-origin.runtime.budget.numscreen.ratings.seasons/test.x.mm\"\n",
    "dev_y = \"movies-preproc/ngrams-deprels-origin.runtime.budget.numscreen.ratings.seasons/dev.y.dat\"\n",
    "test_y = \"movies-preproc/ngrams-deprels-origin.runtime.budget.numscreen.ratings.seasons/test.y.dat\"\n",
    "train_x = \"movies-preproc/ngrams-deprels-origin.runtime.budget.numscreen.ratings.seasons/train.x.mm\"\n",
    "train_y = \"movies-preproc/ngrams-deprels-origin.runtime.budget.numscreen.ratings.seasons/train.y.dat\"\n",
    "vocab = \"movies-preproc/ngrams-deprels-origin.runtime.budget.numscreen.ratings.seasons/vocab\"\n",
    "\n",
    "dev_x_stars = \"movies-preproc/ngrams-deprels-fp1-origin.runtime.budget.numscreen.ratings.seasons.stars/dev.x.mm\"\n",
    "test_x_stars = \"movies-preproc/ngrams-deprels-fp1-origin.runtime.budget.numscreen.ratings.seasons.stars/test.x.mm\"\n",
    "dev_y_stars = \"movies-preproc/ngrams-deprels-fp1-origin.runtime.budget.numscreen.ratings.seasons.stars/dev.y.dat\"\n",
    "test_y_stars = \"movies-preproc/ngrams-deprels-fp1-origin.runtime.budget.numscreen.ratings.seasons.stars/test.y.dat\"\n",
    "train_x_stars = \"movies-preproc/ngrams-deprels-fp1-origin.runtime.budget.numscreen.ratings.seasons.stars/train.x.mm\"\n",
    "train_y_stars = \"movies-preproc/ngrams-deprels-fp1-origin.runtime.budget.numscreen.ratings.seasons.stars/train.y.dat\"\n",
    "vocab_stars = \"movies-preproc/ngrams-deprels-fp1-origin.runtime.budget.numscreen.ratings.seasons.stars/vocab\"\n",
    "\n",
    "for tarinfo in tar:\n",
    "\n",
    "    if tarinfo.name == dev_x:\n",
    "        d_x = tar.extractfile(tarinfo.name)\n",
    "    if tarinfo.name == dev_y:\n",
    "        d_y = tar.extractfile(tarinfo.name)\n",
    "    if tarinfo.name == test_x:\n",
    "        t_x = tar.extractfile(tarinfo.name)\n",
    "    if tarinfo.name == test_y:\n",
    "        t_y = tar.extractfile(tarinfo.name)\n",
    "    if tarinfo.name == train_x:\n",
    "        tr_x = tar.extractfile(tarinfo.name)\n",
    "    if tarinfo.name == train_y:\n",
    "        tr_y = tar.extractfile(tarinfo.name)\n",
    "    if tarinfo.name == vocab:\n",
    "        v = tar.extractfile(tarinfo.name)\n",
    "        \n",
    "    if tarinfo.name == dev_x_stars:\n",
    "        d_x_s = tar.extractfile(tarinfo.name)\n",
    "    if tarinfo.name == dev_y_stars:\n",
    "        d_y_s = tar.extractfile(tarinfo.name)\n",
    "    if tarinfo.name == test_x_stars:\n",
    "        t_x_s = tar.extractfile(tarinfo.name)\n",
    "    if tarinfo.name == test_y_stars:\n",
    "        t_y_s = tar.extractfile(tarinfo.name)\n",
    "    if tarinfo.name == train_x_stars:\n",
    "        tr_x_s = tar.extractfile(tarinfo.name)    \n",
    "    if tarinfo.name == train_y_stars:\n",
    "        tr_y_s = tar.extractfile(tarinfo.name)\n",
    "    if tarinfo.name == vocab_stars:\n",
    "        v_s = tar.extractfile(tarinfo.name)\n",
    "\n",
    "import scipy.io as sio\n",
    "from scipy.sparse import csr_matrix\n",
    "\n",
    "\n",
    "v_array = v.read().split(\"\\n\")\n",
    "v_s_array = v_s.read().split(\"\\n\")\n",
    "\n",
    "d_y_array = np.loadtxt(d_y)\n",
    "t_y_array = np.loadtxt(t_y)\n",
    "tr_y_array = np.loadtxt(tr_y)\n",
    "d_y_s_array = np.loadtxt(d_y_s)\n",
    "t_y_s_array = np.loadtxt(t_y_s)\n",
    "tr_y_s_array = np.loadtxt(tr_y_s)\n",
    "\n",
    "d_x_matrix = csr_matrix(sio.mmread(d_x))\n",
    "t_x_matrix = csr_matrix(sio.mmread(t_x))\n",
    "tr_x_matrix = csr_matrix(sio.mmread(tr_x))\n",
    "\n",
    "d_x_s_matrix = csr_matrix(sio.mmread(d_x_s))\n",
    "t_x_s_matrix = csr_matrix(sio.mmread(t_x_s))\n",
    "tr_x_s_matrix = csr_matrix(sio.mmread(tr_x_s))\n",
    "\n",
    "tar.close()"
   ]
  },
  {
   "cell_type": "code",
   "execution_count": 11,
   "metadata": {
    "collapsed": true
   },
   "outputs": [],
   "source": [
    "def isMeta(inputString):\n",
    "    number = any(char.isdigit() for char in inputString)\n",
    "    return number\n",
    "\n",
    "def isI(inputString):\n",
    "    upper = any(char.isupper() for char in inputString)\n",
    "    lower = any(char.islower() for char in inputString)\n",
    "    number = any(char.isdigit() for char in inputString)\n",
    "    if upper == False and lower == True and number == False:\n",
    "        return True\n",
    "    else:\n",
    "        return False\n",
    "\n",
    "def isII(inputString):\n",
    "    upper = any(char.isupper() for char in inputString)\n",
    "    pato = any(char == \"<\" for char in inputString)\n",
    "    number = any(char.isdigit() for char in inputString)\n",
    "    if upper == True and pato == False and number == False:\n",
    "        return True\n",
    "    else:\n",
    "        return False\n",
    "def isIII(inputString):\n",
    "    upper = any(char.isupper() for char in inputString)\n",
    "    pato = any(char == \"<\" for char in inputString)\n",
    "    number = any(char.isdigit() for char in inputString)\n",
    "    if upper == True and pato == True and number == False:\n",
    "        return True\n",
    "    else:\n",
    "        return False\n",
    "\n",
    "meta = []\n",
    "I = []\n",
    "II = []\n",
    "III = []\n",
    "\n",
    "count = 0\n",
    "for i in v_array:\n",
    "    if isMeta(i):\n",
    "        meta.append(count)\n",
    "    elif isI(i):\n",
    "        I.append(count)\n",
    "    elif isII(i):\n",
    "        II.append(count)\n",
    "    elif isIII(i):\n",
    "        III.append(count)\n",
    "    count += 1\n",
    "    \n",
    "meta_s = []\n",
    "I_s = []\n",
    "II_s = []\n",
    "III_s = []\n",
    "\n",
    "count = 0\n",
    "for i in v_s_array:\n",
    "    if isMeta(i):\n",
    "        meta_s.append(count)\n",
    "    elif isI(i):\n",
    "        I_s.append(count)\n",
    "    elif isII(i):\n",
    "        II_s.append(count)\n",
    "    elif isIII(i):\n",
    "        III_s.append(count)\n",
    "    count += 1\n",
    "    "
   ]
  },
  {
   "cell_type": "markdown",
   "metadata": {},
   "source": [
    "Es importante mantener el formato __sparse__ de las matrices, por un tema de optimización de memoria. Es necesario tener solo en memoria los datos no nulos de la matriz. Esto es significativo cuando se trabaja con matrices muy grandes, y donde muchos de los elementos son nulos. Asi, con un formato __sparse__, no hay necesidad de desperdiciar memoria en datos que no estan, haciendo mas eficiente el procesamiento de estas matrices."
   ]
  },
  {
   "cell_type": "markdown",
   "metadata": {},
   "source": [
    "### Modelo a utilizar\n",
    "En esta ocación, el modelo a utilizar para modelar este problema es el _ElasticNet_, propuesto en el paper _\"Movie Reviews and Revenues: An Experiment in Text Regression\"_. Es una regresion lineal que combina las penalizaciones L1 y L2. Para un $\\alpha = 0$, equivale a utilizar _Ridge_ y $\\alpha = 1$ a _Lasso_. \n",
    "\n",
    "$$\\theta = argmin \\frac{1}{2n} \\sum_{i=1}^{n}{(y_i-(\\beta_0 + x^T_i\\beta) )^2 + \\lambda P(\\beta)}$$\n",
    "$$P(\\beta) = \\sum_{j=1}^p (\\frac{1}{2} (1-\\alpha) \\beta_j^2+\\alpha |\\beta_j|)$$\n",
    "\n",
    "Para estimar los mejores parametros, utilizando los datos de entrenamiento, se fueron variando los valores de $\\alpha$ y $\\lambda$, evaluando la funcion sobre los datos de desarrollo. A medida que se consige un mejor coeficiente de ajuste, se van guardando los paramentos.\n"
   ]
  },
  {
   "cell_type": "code",
   "execution_count": 46,
   "metadata": {
    "collapsed": false
   },
   "outputs": [],
   "source": [
    "from sklearn.linear_model import ElasticNet\n",
    "\n",
    "def best_params_dev(b):\n",
    "    alfa = np.logspace(-2, 1, num=45, base=10)\n",
    "    model = ElasticNet(fit_intercept = True)\n",
    "    best_a = 0\n",
    "    best_b = 0\n",
    "    best_coef = 0\n",
    "\n",
    "    for a in alfa:\n",
    "        model.set_params(alpha = a, l1_ratio = b)\n",
    "        model.fit(tr_x_s_matrix[:, meta_s], tr_y_s_array)\n",
    "        coef = model.score(d_x_s_matrix[:,meta_s], d_y_s_array)\n",
    "        print '{:^15} {:^10} {:^15}'.format(a, b, coef)\n",
    "        if best_coef < coef:\n",
    "            best_coef = coef\n",
    "            best_a = a\n",
    "            best_b = b\n",
    "    print \"Para b: {0}, el mejor a: {1} con un coeficiente de {2}\".format(best_b, best_a, best_coef)        \n",
    "    \n",
    "    return a,b"
   ]
  },
  {
   "cell_type": "code",
   "execution_count": 47,
   "metadata": {
    "collapsed": false
   },
   "outputs": [
    {
     "name": "stdout",
     "output_type": "stream",
     "text": [
      "     0.01           0      0.586844190516 \n",
      "0.0116998910659     0      0.586290261877 \n",
      "0.0136887450954     0      0.585504407298 \n",
      "0.0160156826445     0      0.584510385322 \n",
      "0.0187381742286     0       0.58333566997 \n",
      "0.0219234597248     0      0.582009191968 \n",
      "0.0256502090568     0       0.58055900975 \n",
      "0.0300104651782     0      0.579010193249 \n",
      "0.0351119173422     0      0.577383152772 \n",
      "0.0410805608018     0      0.575692566163 \n",
      "0.0480638086306     0      0.573946969494 \n",
      "0.056234132519      0       0.57214899714 \n",
      "0.0657933224658     0      0.570296196818 \n",
      "0.0769774705712     0      0.568382306101 \n",
      "0.0900628020211     0      0.566398854724 \n",
      "0.105372497274      0       0.56433694502 \n",
      "0.123284673944      0      0.562189055971 \n",
      "0.144241725524      0      0.559950713696 \n",
      "0.168761247579      0      0.557621875446 \n",
      "0.197448821282      0      0.555207890649 \n",
      "0.231012970008      0      0.552719935554 \n",
      "0.270282658391      0      0.550174868852 \n",
      "0.316227766017      0      0.547594520141 \n",
      "0.369983041441      0      0.545004492121 \n",
      "0.432876128108      0      0.542432618248 \n",
      "0.506460354389      0      0.539907257917 \n",
      "0.592553097555      0      0.537455622671 \n",
      "0.693280669214      0      0.535102307673 \n",
      " 0.81113083079      0      0.532868158341 \n",
      "0.949014236042      0      0.530769543248 \n",
      " 1.11033631817      0      0.528818043875 \n",
      " 1.29908139691      0      0.527020520595 \n",
      " 1.51991108295      0      0.525379479313 \n",
      " 1.77827941004      0      0.523893646622 \n",
      " 2.08056753822      0      0.522558661155 \n",
      " 2.43424135524      0      0.521367800519 \n",
      " 2.84803586844      0       0.52031268142 \n",
      " 3.33217094124      0       0.51938389072 \n",
      " 3.89860370255      0      0.518571523714 \n",
      " 4.56132386289      0      0.517865620985 \n",
      " 5.33669923121      0      0.517256506082 \n",
      " 6.24387996565      0      0.516735033205 \n",
      " 7.30527154266      0       0.51629275766 \n",
      " 8.54708812559      0      0.515922042956 \n",
      "     10.0           0      0.515616117843 \n",
      "Para b: 0, el mejor a: 0.01 con un coeficiente de 0.586844190516\n"
     ]
    }
   ],
   "source": [
    "a0,b0 = best_params_dev(0)"
   ]
  },
  {
   "cell_type": "code",
   "execution_count": 48,
   "metadata": {
    "collapsed": false
   },
   "outputs": [
    {
     "name": "stdout",
     "output_type": "stream",
     "text": [
      "     0.01          0.2      0.58719822283 \n",
      "0.0116998910659    0.2     0.587003522209 \n",
      "0.0136887450954    0.2     0.586553125305 \n",
      "0.0160156826445    0.2     0.585862382223 \n",
      "0.0187381742286    0.2     0.584952887175 \n",
      "0.0219234597248    0.2     0.583850809875 \n",
      "0.0256502090568    0.2     0.582584753782 \n",
      "0.0300104651782    0.2     0.581183421167 \n",
      "0.0351119173422    0.2     0.579673374931 \n",
      "0.0410805608018    0.2     0.578077156565 \n",
      "0.0480638086306    0.2     0.576411947977 \n",
      "0.056234132519     0.2     0.574688880154 \n",
      "0.0657933224658    0.2     0.572913005732 \n",
      "0.0769774705712    0.2     0.571083883801 \n",
      "0.0900628020211    0.2     0.569196678439 \n",
      "0.105372497274     0.2     0.567243637683 \n",
      "0.123284673944     0.2      0.56521582258 \n",
      "0.144241725524     0.2      0.56310491729 \n",
      "0.168761247579     0.2     0.560904975354 \n",
      "0.197448821282     0.2     0.558613942262 \n",
      "0.231012970008     0.2     0.556234810658 \n",
      "0.270282658391     0.2     0.553776285203 \n",
      "0.316227766017     0.2     0.551252885476 \n",
      "0.369983041441     0.2     0.548684467083 \n",
      "0.432876128108     0.2     0.546095213845 \n",
      "0.506460354389     0.2     0.543512224156 \n",
      "0.592553097555     0.2     0.540963845019 \n",
      "0.693280669214     0.2     0.538477966107 \n",
      " 0.81113083079     0.2     0.536080443606 \n",
      "0.949014236042     0.2     0.533793818238 \n",
      " 1.11033631817     0.2     0.531636405162 \n",
      " 1.29908139691     0.2     0.529621815172 \n",
      " 1.51991108295     0.2     0.527758868519 \n",
      " 1.77827941004     0.2     0.526051845618 \n",
      " 2.08056753822     0.2     0.524500985882 \n",
      " 2.43424135524     0.2     0.523103140843 \n",
      " 2.84803586844     0.2     0.521852494836 \n",
      " 3.33217094124     0.2     0.520741281297 \n",
      " 3.89860370255     0.2     0.519760452526 \n",
      " 4.56132386289     0.2     0.518900250372 \n",
      " 5.33669923121     0.2     0.518150691736 \n",
      " 6.24387996565     0.2      0.5175019458  \n",
      " 7.30527154266     0.2     0.516944618263 \n",
      " 8.54708812559     0.2     0.516469952614 \n",
      "     10.0          0.2      0.51606996227 \n",
      "Para b: 0.2, el mejor a: 0.01 con un coeficiente de 0.58719822283\n"
     ]
    }
   ],
   "source": [
    "a1,b1 = best_params_dev(0.2)"
   ]
  },
  {
   "cell_type": "code",
   "execution_count": 49,
   "metadata": {
    "collapsed": false
   },
   "outputs": [
    {
     "name": "stdout",
     "output_type": "stream",
     "text": [
      "     0.01          0.4     0.586869624749 \n",
      "0.0116998910659    0.4     0.587159206125 \n",
      "0.0136887450954    0.4     0.587183871101 \n",
      "0.0160156826445    0.4     0.586945555173 \n",
      "0.0187381742286    0.4     0.586453628138 \n",
      "0.0219234597248    0.4      0.58572457548 \n",
      "0.0256502090568    0.4     0.584780890284 \n",
      "0.0300104651782    0.4     0.583649308952 \n",
      "0.0351119173422    0.4     0.582358614761 \n",
      "0.0410805608018    0.4     0.580937301174 \n",
      "0.0480638086306    0.4     0.579411375313 \n",
      "0.056234132519     0.4      0.57780255731 \n",
      "0.0657933224658    0.4     0.576127045114 \n",
      "0.0769774705712    0.4     0.574394935537 \n",
      "0.0900628020211    0.4     0.572610304547 \n",
      "0.105372497274     0.4     0.570771885932 \n",
      "0.123284673944     0.4      0.56887424529 \n",
      "0.144241725524     0.4     0.566909303844 \n",
      "0.168761247579     0.4     0.564868101863 \n",
      "0.197448821282     0.4     0.562742603207 \n",
      "0.231012970008     0.4     0.560527415637 \n",
      "0.270282658391     0.4     0.558221261153 \n",
      "0.316227766017     0.4     0.555828058533 \n",
      "0.369983041441     0.4     0.553357495323 \n",
      "0.432876128108     0.4     0.550825034162 \n",
      "0.506460354389     0.4     0.548251339112 \n",
      "0.592553097555     0.4     0.545661187869 \n",
      "0.693280669214     0.4     0.543082011423 \n",
      " 0.81113083079     0.4     0.540542196131 \n",
      "0.949014236042     0.4     0.538069391733 \n",
      " 1.11033631817     0.4     0.535688985752 \n",
      " 1.29908139691     0.4     0.533422857798 \n",
      " 1.51991108295     0.4     0.531288558054 \n",
      " 1.77827941004     0.4     0.529298890427 \n",
      " 2.08056753822     0.4     0.527461889101 \n",
      " 2.43424135524     0.4      0.52578111722 \n",
      " 2.84803586844     0.4     0.524256198114 \n",
      " 3.33217094124     0.4     0.522883485431 \n",
      " 3.89860370255     0.4     0.521656787724 \n",
      " 4.56132386289     0.4     0.520568076327 \n",
      " 5.33669923121     0.4      0.51960815217 \n",
      " 6.24387996565     0.4     0.518767186147 \n",
      " 7.30527154266     0.4     0.518035196942 \n",
      " 8.54708812559     0.4     0.517402409461 \n",
      "     10.0          0.4     0.516859524318 \n",
      "Para b: 0.4, el mejor a: 0.0136887450954 con un coeficiente de 0.587183871101\n"
     ]
    }
   ],
   "source": [
    "a2,b2 = best_params_dev(0.4) "
   ]
  },
  {
   "cell_type": "code",
   "execution_count": 50,
   "metadata": {
    "collapsed": false
   },
   "outputs": [
    {
     "name": "stdout",
     "output_type": "stream",
     "text": [
      "     0.01          0.6     0.584947134696 \n",
      "0.0116998910659    0.6     0.585884225421 \n",
      "0.0136887450954    0.6     0.586580479391 \n",
      "0.0160156826445    0.6     0.587022511726 \n",
      "0.0187381742286    0.6     0.587201766262 \n",
      "0.0219234597248    0.6     0.587116021844 \n",
      "0.0256502090568    0.6     0.586770302478 \n",
      "0.0300104651782    0.6     0.586177033014 \n",
      "0.0351119173422    0.6     0.585355382722 \n",
      "0.0410805608018    0.6     0.584329861953 \n",
      "0.0480638086306    0.6     0.583128342368 \n",
      "0.056234132519     0.6     0.581779768468 \n",
      "0.0657933224658    0.6     0.580311846042 \n",
      "0.0769774705712    0.6     0.578748981851 \n",
      "0.0900628020211    0.6     0.577110705312 \n",
      "0.105372497274     0.6     0.575410699989 \n",
      "0.123284673944     0.6     0.573656503913 \n",
      "0.144241725524     0.6     0.571849850026 \n",
      "0.168761247579     0.6     0.569987570601 \n",
      "0.197448821282     0.6     0.568062915534 \n",
      "0.231012970008     0.6     0.566067224919 \n",
      "0.270282658391     0.6      0.56399170487 \n",
      "0.316227766017     0.6     0.561829225623 \n",
      "0.369983041441     0.6     0.559575950343 \n",
      "0.432876128108     0.6     0.557232665723 \n",
      "0.506460354389     0.6     0.554805661287 \n",
      "0.592553097555     0.6     0.552307067168 \n",
      "0.693280669214     0.6     0.549754618507 \n",
      " 0.81113083079     0.6     0.547170854577 \n",
      "0.949014236042     0.6      0.54458184874 \n",
      " 1.11033631817     0.6     0.542015650488 \n",
      " 1.29908139691     0.6     0.539500537092 \n",
      " 1.51991108295     0.6     0.537063377844 \n",
      " 1.77827941004     0.6     0.534728236093 \n",
      " 2.08056753822     0.6     0.532515256482 \n",
      " 2.43424135524     0.6     0.530440035343 \n",
      " 2.84803586844     0.6     0.528513368421 \n",
      " 3.33217094124     0.6     0.526741372222 \n",
      " 3.89860370255     0.6     0.525125891055 \n",
      " 4.56132386289     0.6     0.523665097366 \n",
      " 5.33669923121     0.6     0.522354193998 \n",
      " 6.24387996565     0.6     0.521186140438 \n",
      " 7.30527154266     0.6     0.520152335337 \n",
      " 8.54708812559     0.6     0.519243268282 \n",
      "     10.0          0.6     0.518448989944 \n",
      "Para b: 0.6, el mejor a: 0.0187381742286 con un coeficiente de 0.587201766262\n"
     ]
    }
   ],
   "source": [
    "a3,b3 = best_params_dev(0.6) "
   ]
  },
  {
   "cell_type": "code",
   "execution_count": 51,
   "metadata": {
    "collapsed": false
   },
   "outputs": [
    {
     "name": "stdout",
     "output_type": "stream",
     "text": [
      "     0.01          0.8      0.57835256618 \n",
      "0.0116998910659    0.8      0.58015781866 \n",
      "0.0136887450954    0.8     0.581791835557 \n",
      "0.0160156826445    0.8     0.583241561661 \n",
      "0.0187381742286    0.8     0.584491221173 \n",
      "0.0219234597248    0.8     0.585523583666 \n",
      "0.0256502090568    0.8     0.586321650388 \n",
      "0.0300104651782    0.8     0.586870565654 \n",
      "0.0351119173422    0.8     0.587159562336 \n",
      "0.0410805608018    0.8     0.587183637757 \n",
      "0.0480638086306    0.8     0.586944744688 \n",
      "0.056234132519     0.8     0.586452269389 \n",
      "0.0657933224658    0.8     0.585722711527 \n",
      "0.0769774705712    0.8     0.584778574914 \n",
      "0.0900628020211    0.8     0.583646607143 \n",
      "0.105372497274     0.8     0.582355590292 \n",
      "0.123284673944     0.8     0.580934016211 \n",
      "0.144241725524     0.8     0.579407882226 \n",
      "0.168761247579     0.8      0.5777988985  \n",
      "0.197448821282     0.8      0.57612324972 \n",
      "0.231012970008     0.8     0.574391018992 \n",
      "0.270282658391     0.8     0.572606269453 \n",
      "0.316227766017     0.8     0.570767724163 \n",
      "0.369983041441     0.8     0.568869953004 \n",
      "0.432876128108     0.8      0.56690484995 \n",
      "0.506460354389     0.8     0.564863465676 \n",
      "0.592553097555     0.8     0.562737770162 \n",
      "0.693280669214     0.8     0.560522378153 \n",
      " 0.81113083079     0.8     0.558216017872 \n",
      "0.949014236042     0.8     0.555822626144 \n",
      " 1.11033631817     0.8     0.553351901612 \n",
      " 1.29908139691     0.8     0.550819320576 \n",
      " 1.51991108295     0.8     0.548245556542 \n",
      " 1.77827941004     0.8     0.545655380863 \n",
      " 2.08056753822     0.8     0.543076255055 \n",
      " 2.43424135524     0.8     0.540536552974 \n",
      " 2.84803586844     0.8     0.538063906202 \n",
      " 3.33217094124     0.8     0.535683726117 \n",
      " 3.89860370255     0.8     0.533417868526 \n",
      " 4.56132386289     0.8     0.531283873125 \n",
      " 5.33669923121     0.8     0.529294533157 \n",
      " 6.24387996565     0.8     0.527457872578 \n",
      " 7.30527154266     0.8     0.525777445141 \n",
      " 8.54708812559     0.8     0.524252866155 \n",
      "     10.0          0.8      0.52288048281 \n",
      "Para b: 0.8, el mejor a: 0.0410805608018 con un coeficiente de 0.587183637757\n"
     ]
    }
   ],
   "source": [
    "a4,b4 = best_params_dev(0.8)"
   ]
  },
  {
   "cell_type": "code",
   "execution_count": 52,
   "metadata": {
    "collapsed": false
   },
   "outputs": [
    {
     "name": "stdout",
     "output_type": "stream",
     "text": [
      "     0.01           1      0.434812304941 \n",
      "0.0116998910659     1      0.434812469641 \n",
      "0.0136887450954     1      0.434812662336 \n",
      "0.0160156826445     1      0.434812887403 \n",
      "0.0187381742286     1      0.434813151006 \n",
      "0.0219234597248     1      0.434813459522 \n",
      "0.0256502090568     1      0.434813820479 \n",
      "0.0300104651782     1       0.43481424279 \n",
      "0.0351119173422     1      0.434814736884 \n",
      "0.0410805608018     1      0.434815314962 \n",
      "0.0480638086306     1      0.434815991296 \n",
      "0.056234132519      1      0.434816782586 \n",
      "0.0657933224658     1      0.434817708367 \n",
      "0.0769774705712     1      0.434818791495 \n",
      "0.0900628020211     1      0.434820058706 \n",
      "0.105372497274      1      0.434821541281 \n",
      "0.123284673944      1      0.434823275809 \n",
      "0.144241725524      1      0.434825305096 \n",
      "0.168761247579      1      0.434827679214 \n",
      "0.197448821282      1      0.434830451368 \n",
      "0.231012970008      1       0.43483369934 \n",
      "0.270282658391      1      0.434837499654 \n",
      "0.316227766017      1      0.434841945537 \n",
      "0.369983041441      1      0.434847140964 \n",
      "0.432876128108      1      0.434853218096 \n",
      "0.506460354389      1      0.434860333368 \n",
      "0.592553097555      1      0.434868640969 \n",
      "0.693280669214      1      0.434878372094 \n",
      " 0.81113083079      1      0.434889734846 \n",
      "0.949014236042      1       0.4349030389  \n",
      " 1.11033631817      1      0.434918580865 \n",
      " 1.29908139691      1      0.434935574518 \n",
      " 1.51991108295      1      0.434950478468 \n",
      " 1.77827941004      1      0.434967612146 \n",
      " 2.08056753822      1      0.434987624863 \n",
      " 2.43424135524      1       0.43501100308 \n",
      " 2.84803586844      1      0.435038294769 \n",
      " 3.33217094124      1      0.435072991217 \n",
      " 3.89860370255      1      0.435098829114 \n",
      " 4.56132386289      1      0.435125832034 \n",
      " 5.33669923121      1      0.435146450887 \n",
      " 6.24387996565      1      0.435179695729 \n",
      " 7.30527154266      1      0.435218352361 \n",
      " 8.54708812559      1      0.435263915293 \n",
      "     10.0           1      0.435317814984 \n",
      "Para b: 1, el mejor a: 10.0 con un coeficiente de 0.435317814984\n"
     ]
    }
   ],
   "source": [
    "a5,b5 = best_params_dev(1)"
   ]
  },
  {
   "cell_type": "markdown",
   "metadata": {},
   "source": [
    "Los mejores parametros encontrados fueron:\n",
    "\n",
    "$\\alpha = 0$ y $\\lambda = 2.27584592607$\n",
    "\n",
    "Correlación obtenida : "
   ]
  },
  {
   "cell_type": "code",
   "execution_count": 55,
   "metadata": {
    "collapsed": false
   },
   "outputs": [
    {
     "name": "stdout",
     "output_type": "stream",
     "text": [
      "R2=0.677757\n"
     ]
    }
   ],
   "source": [
    "model = ElasticNet(fit_intercept = False)\n",
    "model.set_params(alpha = a3, l1_ratio = b3)\n",
    "model.fit(tr_x_s_matrix[:, meta_s], tr_y_s_array)\n",
    "\n",
    "print \"R2=%f\"%(model.score(t_x_s_matrix[:, meta_s], t_y_s_array))**0.5"
   ]
  },
  {
   "cell_type": "code",
   "execution_count": null,
   "metadata": {
    "collapsed": true
   },
   "outputs": [],
   "source": []
  }
 ],
 "metadata": {
  "anaconda-cloud": {},
  "kernelspec": {
   "display_name": "Python [Root]",
   "language": "python",
   "name": "Python [Root]"
  },
  "language_info": {
   "codemirror_mode": {
    "name": "ipython",
    "version": 2
   },
   "file_extension": ".py",
   "mimetype": "text/x-python",
   "name": "python",
   "nbconvert_exporter": "python",
   "pygments_lexer": "ipython2",
   "version": "2.7.12"
  }
 },
 "nbformat": 4,
 "nbformat_minor": 0
}
